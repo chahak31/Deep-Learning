{
 "cells": [
  {
   "cell_type": "code",
   "execution_count": 1,
   "id": "1c7e14da",
   "metadata": {},
   "outputs": [],
   "source": [
    "import cv2\n",
    "import numpy as np"
   ]
  },
  {
   "cell_type": "code",
   "execution_count": 2,
   "id": "167f1ab1",
   "metadata": {},
   "outputs": [
    {
     "data": {
      "text/plain": [
       "13"
      ]
     },
     "execution_count": 2,
     "metadata": {},
     "output_type": "execute_result"
    }
   ],
   "source": [
    "image = cv2.imread('Images/circle.jpeg')\n",
    "cv2.imshow('Ip Img',image)\n",
    "cv2.waitKey(0)"
   ]
  },
  {
   "cell_type": "code",
   "execution_count": 3,
   "id": "b035271f",
   "metadata": {},
   "outputs": [
    {
     "data": {
      "text/plain": [
       "(789, 564, 3)"
      ]
     },
     "execution_count": 3,
     "metadata": {},
     "output_type": "execute_result"
    }
   ],
   "source": [
    "image.shape"
   ]
  },
  {
   "cell_type": "code",
   "execution_count": 4,
   "id": "64e97b21",
   "metadata": {},
   "outputs": [],
   "source": [
    "gray = cv2.cvtColor(image,cv2.COLOR_BGR2GRAY)"
   ]
  },
  {
   "cell_type": "code",
   "execution_count": 5,
   "id": "1f97a8c3",
   "metadata": {},
   "outputs": [
    {
     "data": {
      "text/plain": [
       "(789, 564)"
      ]
     },
     "execution_count": 5,
     "metadata": {},
     "output_type": "execute_result"
    }
   ],
   "source": [
    "gray.shape"
   ]
  },
  {
   "cell_type": "code",
   "execution_count": 6,
   "id": "ca983d2f",
   "metadata": {},
   "outputs": [
    {
     "data": {
      "text/plain": [
       "32"
      ]
     },
     "execution_count": 6,
     "metadata": {},
     "output_type": "execute_result"
    }
   ],
   "source": [
    "cv2.imshow('gray',gray)\n",
    "cv2.waitKey(0)"
   ]
  },
  {
   "cell_type": "code",
   "execution_count": 20,
   "id": "c425188d",
   "metadata": {},
   "outputs": [],
   "source": [
    "for i, j in enumerate(gray):\n",
    "    for k in range(564):\n",
    "        if gray[i][k] > 300:\n",
    "            print(i,k)\n",
    "            break\n",
    "    else:\n",
    "        continue\n",
    "    break"
   ]
  },
  {
   "cell_type": "markdown",
   "id": "7716def0",
   "metadata": {},
   "source": [
    "## CANNY: Image, min_val, max_val (thresholds: to refine edges)\n",
    "###     min_val: pixels having value lower than min_val will not be considered as an edge\n",
    "###     max_val: edge\n",
    "###     b/w min_val & max_val: consider continuous lines and joining with max_val"
   ]
  },
  {
   "cell_type": "code",
   "execution_count": 23,
   "id": "68edbe6f",
   "metadata": {},
   "outputs": [
    {
     "data": {
      "text/plain": [
       "32"
      ]
     },
     "execution_count": 23,
     "metadata": {},
     "output_type": "execute_result"
    }
   ],
   "source": [
    "edged = cv2.Canny(gray, 80, 100)\n",
    "cv2.imshow('Canny Edges', edged)\n",
    "cv2.waitKey(0)"
   ]
  },
  {
   "cell_type": "markdown",
   "id": "7fe28945",
   "metadata": {},
   "source": [
    "# FIND CONTOURS ALGORITHM\n",
    "\n",
    "## COUNTOURS:\n",
    "    CHAIN_APPROX_NONE\n",
    "    CHAIN_APPROX_SIMPLE\n",
    "    \n",
    "## HIERARCHY:\n",
    "    RETR_LIST\n",
    "    RETR_EXTERNAL\n",
    "    RETR_COMP\n",
    "    RETR_TREE"
   ]
  },
  {
   "cell_type": "code",
   "execution_count": 8,
   "id": "2c1fbe55",
   "metadata": {},
   "outputs": [
    {
     "data": {
      "text/plain": [
       "32"
      ]
     },
     "execution_count": 8,
     "metadata": {},
     "output_type": "execute_result"
    }
   ],
   "source": [
    "contours, hierarchy = cv2.findContours(edged, cv2.RETR_EXTERNAL, cv2.CHAIN_APPROX_SIMPLE) #cv2.CHAIN_APPROX_SIMPLE\n",
    "cv2.imshow('Canny Edges After Contouring', edged)\n",
    "cv2.waitKey(0)"
   ]
  },
  {
   "cell_type": "code",
   "execution_count": 9,
   "id": "1cfda792",
   "metadata": {},
   "outputs": [
    {
     "name": "stdout",
     "output_type": "stream",
     "text": [
      "Number of Contours found = 3\n"
     ]
    }
   ],
   "source": [
    "print(\"Number of Contours found = \" + str(len(contours)))"
   ]
  },
  {
   "cell_type": "code",
   "execution_count": 10,
   "id": "3d3a27b7",
   "metadata": {},
   "outputs": [],
   "source": [
    "# contours"
   ]
  },
  {
   "cell_type": "code",
   "execution_count": 11,
   "id": "e8a10b36",
   "metadata": {},
   "outputs": [
    {
     "data": {
      "text/plain": [
       "array([[[ 1, -1, -1, -1],\n",
       "        [ 2,  0, -1, -1],\n",
       "        [-1,  1, -1, -1]]], dtype=int32)"
      ]
     },
     "execution_count": 11,
     "metadata": {},
     "output_type": "execute_result"
    }
   ],
   "source": [
    "hierarchy"
   ]
  },
  {
   "cell_type": "code",
   "execution_count": 12,
   "id": "55262bd5",
   "metadata": {},
   "outputs": [],
   "source": [
    "cv2.drawContours(image, contours, -1, (0,255,0), thickness = 2)\n",
    "\n",
    "cv2.imshow('Contours', image)\n",
    "cv2.waitKey(0)\n",
    "cv2.destroyAllWindows()"
   ]
  },
  {
   "cell_type": "markdown",
   "id": "893485dc",
   "metadata": {},
   "source": [
    "## SORTING AND APPROXIMATING CONTOURS"
   ]
  },
  {
   "cell_type": "markdown",
   "id": "f85018c7",
   "metadata": {},
   "source": [
    "### Sort Contours By Area"
   ]
  },
  {
   "cell_type": "code",
   "execution_count": 13,
   "id": "18b19395",
   "metadata": {},
   "outputs": [],
   "source": [
    "def get_contour_area(contours):\n",
    "    all_areas = []\n",
    "    for cnt in contours:\n",
    "        area = cv2.contourArea(cnt)\n",
    "        all_areas.append(area)\n",
    "    return all_areas"
   ]
  },
  {
   "cell_type": "code",
   "execution_count": 14,
   "id": "c64925ca",
   "metadata": {},
   "outputs": [
    {
     "data": {
      "text/plain": [
       "[86821.0, 54099.0, 54188.5]"
      ]
     },
     "execution_count": 14,
     "metadata": {},
     "output_type": "execute_result"
    }
   ],
   "source": [
    "get_contour_area(contours)"
   ]
  },
  {
   "cell_type": "code",
   "execution_count": 15,
   "id": "1077a5c9",
   "metadata": {},
   "outputs": [],
   "source": [
    "sorted_contours = sorted(contours, key=cv2.contourArea, reverse=True)"
   ]
  },
  {
   "cell_type": "code",
   "execution_count": 16,
   "id": "925a107c",
   "metadata": {},
   "outputs": [
    {
     "name": "stdout",
     "output_type": "stream",
     "text": [
      "[86821.0, 54188.5, 54099.0]\n"
     ]
    }
   ],
   "source": [
    "print(get_contour_area(sorted_contours))"
   ]
  },
  {
   "cell_type": "code",
   "execution_count": 17,
   "id": "ae39f44a",
   "metadata": {},
   "outputs": [],
   "source": [
    "# Iterate over our contours and draw one at a time\n",
    "for c in sorted_contours:\n",
    "    cv2.drawContours(image, [c], -1, (255,0,0), 3)\n",
    "    cv2.waitKey(0)\n",
    "    cv2.imshow('Contours by area', image)\n",
    "cv2.waitKey(0)\n",
    "cv2.destroyAllWindows()"
   ]
  },
  {
   "cell_type": "markdown",
   "id": "cea5158d",
   "metadata": {},
   "source": [
    "### Sort Contours Left to Right"
   ]
  },
  {
   "cell_type": "code",
   "execution_count": 18,
   "id": "e3976957",
   "metadata": {},
   "outputs": [],
   "source": [
    "def x_cord_contour(contours):\n",
    "    \"\"\"Returns the X cordinate for the contour centroid\"\"\"\n",
    "    if cv2.contourArea(contours) > 10:\n",
    "        M = cv2.moments(contours)\n",
    "        print(M)\n",
    "        return (int(M['m10']/M['m00']))\n",
    "    else:\n",
    "        pass"
   ]
  },
  {
   "cell_type": "code",
   "execution_count": 19,
   "id": "05fbe4ab",
   "metadata": {},
   "outputs": [],
   "source": [
    "# for cnt in contours:\n",
    "#     print(cnt)\n",
    "#     m = x_cord_contour(cnt)\n",
    "#     print(m)"
   ]
  },
  {
   "cell_type": "code",
   "execution_count": 20,
   "id": "b4b3c25d",
   "metadata": {},
   "outputs": [],
   "source": [
    "def label_contour_center(image,c):\n",
    "    M = cv2.moments(c)\n",
    "    cx = int(M['m10'] / M['m00'])\n",
    "    cy = int(M['m01'] / M['m00'])\n",
    "    \n",
    "    cv2.circle(image,(cx,cy), 10, (0,0,255), -1)\n",
    "    return image"
   ]
  },
  {
   "cell_type": "code",
   "execution_count": 21,
   "id": "548e0f54",
   "metadata": {},
   "outputs": [],
   "source": [
    "orginal_image = image.copy()\n",
    "original_image2 = image.copy()"
   ]
  },
  {
   "cell_type": "code",
   "execution_count": 22,
   "id": "d47cb4a5",
   "metadata": {},
   "outputs": [
    {
     "data": {
      "text/plain": [
       "32"
      ]
     },
     "execution_count": 22,
     "metadata": {},
     "output_type": "execute_result"
    }
   ],
   "source": [
    "for (i, c) in enumerate(contours):\n",
    "    orig = label_contour_center(image, c)\n",
    " \n",
    "cv2.imshow(\"Center\", image)\n",
    "cv2.waitKey(0)"
   ]
  },
  {
   "cell_type": "code",
   "execution_count": 23,
   "id": "b5565aed",
   "metadata": {},
   "outputs": [
    {
     "name": "stdout",
     "output_type": "stream",
     "text": [
      "{'m00': 86821.0, 'm10': 24440550.5, 'm01': 52507251.0, 'm20': 8093506473.0, 'm11': 14781089457.75, 'm02': 32086512163.5, 'm30': 2961503719206.25, 'm21': 4918781921192.15, 'm12': 9032559318601.416, 'm03': 19801185520495.7, 'mu20': 1213367926.5302496, 'mu11': 32804.61682534303, 'mu02': 331390619.43807155, 'mu30': 2310073.447123406, 'mu21': 24005549418.916073, 'mu12': 4224080.676537613, 'mu03': -4798846779.589235, 'nu20': 0.1609692584804957, 'nu11': 4.35196507972029e-06, 'nu02': 0.04396333635658256, 'nu30': 1.0400730156781567e-06, 'nu21': 0.01080810837778063, 'nu12': 1.9018236555141042e-06, 'nu03': -0.0021606027496831165}\n",
      "{'m00': 54099.0, 'm10': 15237568.166666666, 'm01': 19386903.666666664, 'm20': 4762605986.0, 'm11': 5460507119.083333, 'm02': 7076182403.166666, 'm30': 1606645808777.1501, 'm21': 1699380408317.3167, 'm12': 1993064258739.7166, 'm03': 2629523390099.7, 'mu20': 470780191.9222293, 'mu11': -23873.382946018817, 'mu02': 128696612.66012524, 'mu30': 5687989.104720679, 'mu21': -7332394290.346545, 'mu12': -1898972.4125984397, 'mu03': 1465122078.289646, 'nu20': 0.16085690443808534, 'nu11': -8.157094425493476e-06, 'nu02': 0.04397325775251581, 'nu30': 8.355754323088095e-06, 'nu21': -0.010771413967600821, 'nu12': -2.789623301638452e-06, 'nu03': 0.0021522896605691904}\n",
      "{'m00': 54188.5, 'm10': 15255775.833333332, 'm01': 9130371.833333332, 'm20': 4766482988.75, 'm11': 2570584827.875, 'm02': 1667767465.4166665, 'm30': 1607382333429.9502, 'm21': 795807318597.0834, 'm12': 469563896107.31665, 'm03': 326081841815.75, 'mu20': 471499804.5519263, 'mu11': 96514.5924031628, 'mu02': 129365593.89546418, 'mu30': -17514087.06925775, 'mu21': -7365067324.619044, 'mu12': 2106746.933365615, 'mu03': 1480698765.0801475, 'nu20': 0.16057105404078498, 'nu11': 3.286841199694676e-05, 'nu02': 0.04405594566077738, 'nu30': -2.56223925706846e-05, 'nu21': -0.010774792060509523, 'nu12': 3.082084539166755e-06, 'nu03': 0.0021662016916888203}\n"
     ]
    }
   ],
   "source": [
    "contours_left_to_right = sorted(contours, key = x_cord_contour, reverse = False)"
   ]
  },
  {
   "cell_type": "code",
   "execution_count": 24,
   "id": "b6afdc54",
   "metadata": {},
   "outputs": [],
   "source": [
    "for (i,c)  in enumerate(contours_left_to_right):\n",
    "    cv2.drawContours(orginal_image, [c], -1, (0,0,255), 3)  \n",
    "    M = cv2.moments(c)\n",
    "    cx = int(M['m10'] / M['m00'])\n",
    "    cy = int(M['m01'] / M['m00'])\n",
    "    cv2.putText(orginal_image, str(i+1), (cx, cy), cv2.FONT_HERSHEY_SIMPLEX, 2, (0, 255, 0), 3)\n",
    "    cv2.imshow('Sorting Left to Right', orginal_image)\n",
    "    cv2.waitKey(0)\n",
    "    (x, y, w, h) = cv2.boundingRect(c)  "
   ]
  },
  {
   "cell_type": "code",
   "execution_count": 25,
   "id": "8ec13d01",
   "metadata": {},
   "outputs": [
    {
     "name": "stdout",
     "output_type": "stream",
     "text": [
      "604\n",
      "358\n",
      "168\n",
      "0\n",
      "1\n",
      "2\n"
     ]
    }
   ],
   "source": [
    "def Y_cord_contour(contours):\n",
    "    \"\"\"Returns the Y cordinate for the contour centroid\"\"\"\n",
    "    if cv2.contourArea(contours) > 10:\n",
    "        M = cv2.moments(contours)\n",
    "        print(int(M['m01']/M['m00']))\n",
    "        return (int(M['m01']/M['m00']))\n",
    "    else:\n",
    "        pass\n",
    "\n",
    "contours_top_to_bottom = sorted(contours, key = Y_cord_contour, reverse = False)\n",
    "\n",
    "for (i,c)  in enumerate(contours_top_to_bottom):\n",
    "    print(i)\n",
    "    cv2.drawContours(original_image2, [c], -1, (0,255,0), 3)  \n",
    "    M = cv2.moments(c)\n",
    "    cx = int(M['m10'] / M['m00'])\n",
    "    cy = int(M['m01'] / M['m00'])\n",
    "    cv2.putText(original_image2, str(i+1), (cx, cy), cv2.FONT_HERSHEY_SIMPLEX, 2, (255, 0, 0), 3)\n",
    "    cv2.imshow('Sorting Top to Bottom', original_image2)\n",
    "    cv2.waitKey(0)"
   ]
  },
  {
   "cell_type": "markdown",
   "id": "e1a1a96f",
   "metadata": {},
   "source": [
    "### Using ApproxPolyDP to approximate contours as a more defined shape"
   ]
  },
  {
   "cell_type": "code",
   "execution_count": 41,
   "id": "865a9fea",
   "metadata": {},
   "outputs": [
    {
     "name": "stderr",
     "output_type": "stream",
     "text": [
      "2023-06-17 18:04:27.056 python[98827:1105412] +[CATransaction synchronize] called within transaction\n",
      "2023-06-17 18:04:39.416 python[98827:1105412] +[CATransaction synchronize] called within transaction\n",
      "2023-06-17 18:04:39.433 python[98827:1105412] +[CATransaction synchronize] called within transaction\n",
      "2023-06-17 18:04:39.484 python[98827:1105412] +[CATransaction synchronize] called within transaction\n",
      "2023-06-17 18:04:39.500 python[98827:1105412] +[CATransaction synchronize] called within transaction\n",
      "2023-06-17 18:04:39.533 python[98827:1105412] +[CATransaction synchronize] called within transaction\n",
      "2023-06-17 18:04:39.549 python[98827:1105412] +[CATransaction synchronize] called within transaction\n",
      "2023-06-17 18:04:39.583 python[98827:1105412] +[CATransaction synchronize] called within transaction\n",
      "2023-06-17 18:04:39.616 python[98827:1105412] +[CATransaction synchronize] called within transaction\n"
     ]
    }
   ],
   "source": [
    "image = cv2.imread('images/leaf.jpeg')\n",
    "orig_image = image.copy()\n",
    "cv2.imshow('Original Image', orig_image)\n",
    "cv2.waitKey(0) \n",
    "\n",
    "# Grayscale and binarize\n",
    "gray = cv2.cvtColor(image, cv2.COLOR_BGR2GRAY)\n",
    "ret, thresh = cv2.threshold(gray, 127, 255, cv2.THRESH_BINARY_INV)\n",
    "\n",
    "# Find contours \n",
    "contours, hierarchy = cv2.findContours(thresh.copy(), cv2.RETR_LIST, cv2.CHAIN_APPROX_NONE)\n",
    "copy = image.copy()\n",
    "\n",
    "# Iterate through each contour \n",
    "for c in contours:\n",
    "    #x,y,w,h = cv2.boundingRect(c)\n",
    "    #cv2.rectangle(orig_image,(x,y),(x+w,y+h),(0,0,255),2)\n",
    "    cv2.drawContours(image, [c], 0, (0, 255, 0), 2)\n",
    "    cv2.imshow('Bounding Rectangle', image)\n",
    "\n",
    "cv2.waitKey(0) \n",
    "\n",
    "# Iterate through each contour and compute the approx contour\n",
    "for c in contours:\n",
    "    # Calculate accuracy as a percent of the contour perimeter\n",
    "    accuracy = 0.03 * cv2.arcLength(c, True)\n",
    "    approx = cv2.approxPolyDP(c, accuracy, True)\n",
    "    cv2.drawContours(copy, [approx], 0, (0, 255, 0), 2)\n",
    "    cv2.imshow('Approx Poly DP', copy)\n",
    "    \n",
    "cv2.waitKey(0)   \n",
    "cv2.destroyAllWindows()"
   ]
  },
  {
   "cell_type": "code",
   "execution_count": 42,
   "id": "e239a2e1",
   "metadata": {},
   "outputs": [
    {
     "name": "stderr",
     "output_type": "stream",
     "text": [
      "2023-06-17 18:04:57.740 python[98827:1105412] +[CATransaction synchronize] called within transaction\n"
     ]
    }
   ],
   "source": [
    "import numpy as np\n",
    "import cv2\n",
    "\n",
    "image = cv2.imread('images/leaf.jpeg')\n",
    "gray = cv2.cvtColor(image, cv2.COLOR_BGR2GRAY)\n",
    "\n",
    "cv2.imshow('Original Image', image)\n",
    "cv2.waitKey(0) \n",
    "\n",
    "# Threshold the image\n",
    "ret, thresh = cv2.threshold(gray, 176, 255, 0)\n",
    "\n",
    "# Find contours \n",
    "contours, hierarchy = cv2.findContours(thresh.copy(), cv2.RETR_LIST, cv2.CHAIN_APPROX_NONE)\n",
    "    \n",
    "# Sort Contors by area and then remove the largest frame contour\n",
    "n = len(contours) - 1\n",
    "contours = sorted(contours, key=cv2.contourArea, reverse=False)[:n]\n",
    "\n",
    "# Iterate through contours and draw the convex hull\n",
    "for c in contours:\n",
    "    hull = cv2.convexHull(c)\n",
    "    cv2.drawContours(image, [hull], 0, (255, 0, 0), 2)\n",
    "    cv2.imshow('Convex Hull', image)\n",
    "\n",
    "cv2.waitKey(0)    \n",
    "cv2.destroyAllWindows()"
   ]
  },
  {
   "cell_type": "code",
   "execution_count": null,
   "id": "bd41bf71",
   "metadata": {},
   "outputs": [],
   "source": []
  }
 ],
 "metadata": {
  "kernelspec": {
   "display_name": "Python 3 (ipykernel)",
   "language": "python",
   "name": "python3"
  },
  "language_info": {
   "codemirror_mode": {
    "name": "ipython",
    "version": 3
   },
   "file_extension": ".py",
   "mimetype": "text/x-python",
   "name": "python",
   "nbconvert_exporter": "python",
   "pygments_lexer": "ipython3",
   "version": "3.10.9"
  }
 },
 "nbformat": 4,
 "nbformat_minor": 5
}
