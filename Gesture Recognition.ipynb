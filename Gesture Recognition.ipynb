{
 "cells": [
  {
   "cell_type": "code",
   "execution_count": 1,
   "id": "2719b046",
   "metadata": {},
   "outputs": [],
   "source": [
    "import pandas as pd\n",
    "import numpy as np"
   ]
  },
  {
   "cell_type": "code",
   "execution_count": 2,
   "id": "73c994d0",
   "metadata": {},
   "outputs": [],
   "source": [
    "train = pd.read_csv('data/sign_mnist_train/sign_mnist_train.csv')\n",
    "test = pd.read_csv('data/sign_mnist_test/sign_mnist_test.csv')"
   ]
  },
  {
   "cell_type": "code",
   "execution_count": 3,
   "id": "81797bd7",
   "metadata": {},
   "outputs": [
    {
     "data": {
      "text/plain": [
       "(27455, 785)"
      ]
     },
     "execution_count": 3,
     "metadata": {},
     "output_type": "execute_result"
    }
   ],
   "source": [
    "train.shape"
   ]
  },
  {
   "cell_type": "code",
   "execution_count": 4,
   "id": "c3cf27e0",
   "metadata": {},
   "outputs": [
    {
     "data": {
      "text/html": [
       "<div>\n",
       "<style scoped>\n",
       "    .dataframe tbody tr th:only-of-type {\n",
       "        vertical-align: middle;\n",
       "    }\n",
       "\n",
       "    .dataframe tbody tr th {\n",
       "        vertical-align: top;\n",
       "    }\n",
       "\n",
       "    .dataframe thead th {\n",
       "        text-align: right;\n",
       "    }\n",
       "</style>\n",
       "<table border=\"1\" class=\"dataframe\">\n",
       "  <thead>\n",
       "    <tr style=\"text-align: right;\">\n",
       "      <th></th>\n",
       "      <th>label</th>\n",
       "      <th>pixel1</th>\n",
       "      <th>pixel2</th>\n",
       "      <th>pixel3</th>\n",
       "      <th>pixel4</th>\n",
       "      <th>pixel5</th>\n",
       "      <th>pixel6</th>\n",
       "      <th>pixel7</th>\n",
       "      <th>pixel8</th>\n",
       "      <th>pixel9</th>\n",
       "      <th>...</th>\n",
       "      <th>pixel775</th>\n",
       "      <th>pixel776</th>\n",
       "      <th>pixel777</th>\n",
       "      <th>pixel778</th>\n",
       "      <th>pixel779</th>\n",
       "      <th>pixel780</th>\n",
       "      <th>pixel781</th>\n",
       "      <th>pixel782</th>\n",
       "      <th>pixel783</th>\n",
       "      <th>pixel784</th>\n",
       "    </tr>\n",
       "  </thead>\n",
       "  <tbody>\n",
       "    <tr>\n",
       "      <th>0</th>\n",
       "      <td>3</td>\n",
       "      <td>107</td>\n",
       "      <td>118</td>\n",
       "      <td>127</td>\n",
       "      <td>134</td>\n",
       "      <td>139</td>\n",
       "      <td>143</td>\n",
       "      <td>146</td>\n",
       "      <td>150</td>\n",
       "      <td>153</td>\n",
       "      <td>...</td>\n",
       "      <td>207</td>\n",
       "      <td>207</td>\n",
       "      <td>207</td>\n",
       "      <td>207</td>\n",
       "      <td>206</td>\n",
       "      <td>206</td>\n",
       "      <td>206</td>\n",
       "      <td>204</td>\n",
       "      <td>203</td>\n",
       "      <td>202</td>\n",
       "    </tr>\n",
       "    <tr>\n",
       "      <th>1</th>\n",
       "      <td>6</td>\n",
       "      <td>155</td>\n",
       "      <td>157</td>\n",
       "      <td>156</td>\n",
       "      <td>156</td>\n",
       "      <td>156</td>\n",
       "      <td>157</td>\n",
       "      <td>156</td>\n",
       "      <td>158</td>\n",
       "      <td>158</td>\n",
       "      <td>...</td>\n",
       "      <td>69</td>\n",
       "      <td>149</td>\n",
       "      <td>128</td>\n",
       "      <td>87</td>\n",
       "      <td>94</td>\n",
       "      <td>163</td>\n",
       "      <td>175</td>\n",
       "      <td>103</td>\n",
       "      <td>135</td>\n",
       "      <td>149</td>\n",
       "    </tr>\n",
       "    <tr>\n",
       "      <th>2</th>\n",
       "      <td>2</td>\n",
       "      <td>187</td>\n",
       "      <td>188</td>\n",
       "      <td>188</td>\n",
       "      <td>187</td>\n",
       "      <td>187</td>\n",
       "      <td>186</td>\n",
       "      <td>187</td>\n",
       "      <td>188</td>\n",
       "      <td>187</td>\n",
       "      <td>...</td>\n",
       "      <td>202</td>\n",
       "      <td>201</td>\n",
       "      <td>200</td>\n",
       "      <td>199</td>\n",
       "      <td>198</td>\n",
       "      <td>199</td>\n",
       "      <td>198</td>\n",
       "      <td>195</td>\n",
       "      <td>194</td>\n",
       "      <td>195</td>\n",
       "    </tr>\n",
       "    <tr>\n",
       "      <th>3</th>\n",
       "      <td>2</td>\n",
       "      <td>211</td>\n",
       "      <td>211</td>\n",
       "      <td>212</td>\n",
       "      <td>212</td>\n",
       "      <td>211</td>\n",
       "      <td>210</td>\n",
       "      <td>211</td>\n",
       "      <td>210</td>\n",
       "      <td>210</td>\n",
       "      <td>...</td>\n",
       "      <td>235</td>\n",
       "      <td>234</td>\n",
       "      <td>233</td>\n",
       "      <td>231</td>\n",
       "      <td>230</td>\n",
       "      <td>226</td>\n",
       "      <td>225</td>\n",
       "      <td>222</td>\n",
       "      <td>229</td>\n",
       "      <td>163</td>\n",
       "    </tr>\n",
       "    <tr>\n",
       "      <th>4</th>\n",
       "      <td>13</td>\n",
       "      <td>164</td>\n",
       "      <td>167</td>\n",
       "      <td>170</td>\n",
       "      <td>172</td>\n",
       "      <td>176</td>\n",
       "      <td>179</td>\n",
       "      <td>180</td>\n",
       "      <td>184</td>\n",
       "      <td>185</td>\n",
       "      <td>...</td>\n",
       "      <td>92</td>\n",
       "      <td>105</td>\n",
       "      <td>105</td>\n",
       "      <td>108</td>\n",
       "      <td>133</td>\n",
       "      <td>163</td>\n",
       "      <td>157</td>\n",
       "      <td>163</td>\n",
       "      <td>164</td>\n",
       "      <td>179</td>\n",
       "    </tr>\n",
       "    <tr>\n",
       "      <th>...</th>\n",
       "      <td>...</td>\n",
       "      <td>...</td>\n",
       "      <td>...</td>\n",
       "      <td>...</td>\n",
       "      <td>...</td>\n",
       "      <td>...</td>\n",
       "      <td>...</td>\n",
       "      <td>...</td>\n",
       "      <td>...</td>\n",
       "      <td>...</td>\n",
       "      <td>...</td>\n",
       "      <td>...</td>\n",
       "      <td>...</td>\n",
       "      <td>...</td>\n",
       "      <td>...</td>\n",
       "      <td>...</td>\n",
       "      <td>...</td>\n",
       "      <td>...</td>\n",
       "      <td>...</td>\n",
       "      <td>...</td>\n",
       "      <td>...</td>\n",
       "    </tr>\n",
       "    <tr>\n",
       "      <th>27450</th>\n",
       "      <td>13</td>\n",
       "      <td>189</td>\n",
       "      <td>189</td>\n",
       "      <td>190</td>\n",
       "      <td>190</td>\n",
       "      <td>192</td>\n",
       "      <td>193</td>\n",
       "      <td>193</td>\n",
       "      <td>193</td>\n",
       "      <td>193</td>\n",
       "      <td>...</td>\n",
       "      <td>132</td>\n",
       "      <td>165</td>\n",
       "      <td>99</td>\n",
       "      <td>77</td>\n",
       "      <td>52</td>\n",
       "      <td>200</td>\n",
       "      <td>234</td>\n",
       "      <td>200</td>\n",
       "      <td>222</td>\n",
       "      <td>225</td>\n",
       "    </tr>\n",
       "    <tr>\n",
       "      <th>27451</th>\n",
       "      <td>23</td>\n",
       "      <td>151</td>\n",
       "      <td>154</td>\n",
       "      <td>157</td>\n",
       "      <td>158</td>\n",
       "      <td>160</td>\n",
       "      <td>161</td>\n",
       "      <td>163</td>\n",
       "      <td>164</td>\n",
       "      <td>166</td>\n",
       "      <td>...</td>\n",
       "      <td>198</td>\n",
       "      <td>198</td>\n",
       "      <td>198</td>\n",
       "      <td>198</td>\n",
       "      <td>198</td>\n",
       "      <td>196</td>\n",
       "      <td>195</td>\n",
       "      <td>195</td>\n",
       "      <td>195</td>\n",
       "      <td>194</td>\n",
       "    </tr>\n",
       "    <tr>\n",
       "      <th>27452</th>\n",
       "      <td>18</td>\n",
       "      <td>174</td>\n",
       "      <td>174</td>\n",
       "      <td>174</td>\n",
       "      <td>174</td>\n",
       "      <td>174</td>\n",
       "      <td>175</td>\n",
       "      <td>175</td>\n",
       "      <td>174</td>\n",
       "      <td>173</td>\n",
       "      <td>...</td>\n",
       "      <td>121</td>\n",
       "      <td>196</td>\n",
       "      <td>209</td>\n",
       "      <td>208</td>\n",
       "      <td>206</td>\n",
       "      <td>204</td>\n",
       "      <td>203</td>\n",
       "      <td>202</td>\n",
       "      <td>200</td>\n",
       "      <td>200</td>\n",
       "    </tr>\n",
       "    <tr>\n",
       "      <th>27453</th>\n",
       "      <td>17</td>\n",
       "      <td>177</td>\n",
       "      <td>181</td>\n",
       "      <td>184</td>\n",
       "      <td>185</td>\n",
       "      <td>187</td>\n",
       "      <td>189</td>\n",
       "      <td>190</td>\n",
       "      <td>191</td>\n",
       "      <td>191</td>\n",
       "      <td>...</td>\n",
       "      <td>119</td>\n",
       "      <td>56</td>\n",
       "      <td>27</td>\n",
       "      <td>58</td>\n",
       "      <td>102</td>\n",
       "      <td>79</td>\n",
       "      <td>47</td>\n",
       "      <td>64</td>\n",
       "      <td>87</td>\n",
       "      <td>93</td>\n",
       "    </tr>\n",
       "    <tr>\n",
       "      <th>27454</th>\n",
       "      <td>23</td>\n",
       "      <td>179</td>\n",
       "      <td>180</td>\n",
       "      <td>180</td>\n",
       "      <td>180</td>\n",
       "      <td>182</td>\n",
       "      <td>181</td>\n",
       "      <td>182</td>\n",
       "      <td>183</td>\n",
       "      <td>182</td>\n",
       "      <td>...</td>\n",
       "      <td>108</td>\n",
       "      <td>132</td>\n",
       "      <td>170</td>\n",
       "      <td>194</td>\n",
       "      <td>214</td>\n",
       "      <td>203</td>\n",
       "      <td>197</td>\n",
       "      <td>205</td>\n",
       "      <td>209</td>\n",
       "      <td>215</td>\n",
       "    </tr>\n",
       "  </tbody>\n",
       "</table>\n",
       "<p>27455 rows × 785 columns</p>\n",
       "</div>"
      ],
      "text/plain": [
       "       label  pixel1  pixel2  pixel3  pixel4  pixel5  pixel6  pixel7  pixel8  \\\n",
       "0          3     107     118     127     134     139     143     146     150   \n",
       "1          6     155     157     156     156     156     157     156     158   \n",
       "2          2     187     188     188     187     187     186     187     188   \n",
       "3          2     211     211     212     212     211     210     211     210   \n",
       "4         13     164     167     170     172     176     179     180     184   \n",
       "...      ...     ...     ...     ...     ...     ...     ...     ...     ...   \n",
       "27450     13     189     189     190     190     192     193     193     193   \n",
       "27451     23     151     154     157     158     160     161     163     164   \n",
       "27452     18     174     174     174     174     174     175     175     174   \n",
       "27453     17     177     181     184     185     187     189     190     191   \n",
       "27454     23     179     180     180     180     182     181     182     183   \n",
       "\n",
       "       pixel9  ...  pixel775  pixel776  pixel777  pixel778  pixel779  \\\n",
       "0         153  ...       207       207       207       207       206   \n",
       "1         158  ...        69       149       128        87        94   \n",
       "2         187  ...       202       201       200       199       198   \n",
       "3         210  ...       235       234       233       231       230   \n",
       "4         185  ...        92       105       105       108       133   \n",
       "...       ...  ...       ...       ...       ...       ...       ...   \n",
       "27450     193  ...       132       165        99        77        52   \n",
       "27451     166  ...       198       198       198       198       198   \n",
       "27452     173  ...       121       196       209       208       206   \n",
       "27453     191  ...       119        56        27        58       102   \n",
       "27454     182  ...       108       132       170       194       214   \n",
       "\n",
       "       pixel780  pixel781  pixel782  pixel783  pixel784  \n",
       "0           206       206       204       203       202  \n",
       "1           163       175       103       135       149  \n",
       "2           199       198       195       194       195  \n",
       "3           226       225       222       229       163  \n",
       "4           163       157       163       164       179  \n",
       "...         ...       ...       ...       ...       ...  \n",
       "27450       200       234       200       222       225  \n",
       "27451       196       195       195       195       194  \n",
       "27452       204       203       202       200       200  \n",
       "27453        79        47        64        87        93  \n",
       "27454       203       197       205       209       215  \n",
       "\n",
       "[27455 rows x 785 columns]"
      ]
     },
     "execution_count": 4,
     "metadata": {},
     "output_type": "execute_result"
    }
   ],
   "source": [
    "train"
   ]
  },
  {
   "cell_type": "code",
   "execution_count": 5,
   "id": "47975e39",
   "metadata": {},
   "outputs": [
    {
     "data": {
      "text/plain": [
       "array([ 3,  6,  2, ..., 18, 17, 23])"
      ]
     },
     "execution_count": 5,
     "metadata": {},
     "output_type": "execute_result"
    }
   ],
   "source": [
    "labels = train['label'].values\n",
    "labels"
   ]
  },
  {
   "cell_type": "code",
   "execution_count": 6,
   "id": "b0bdc996",
   "metadata": {},
   "outputs": [
    {
     "data": {
      "text/plain": [
       "(27455,)"
      ]
     },
     "execution_count": 6,
     "metadata": {},
     "output_type": "execute_result"
    }
   ],
   "source": [
    "labels.shape"
   ]
  },
  {
   "cell_type": "code",
   "execution_count": 7,
   "id": "c8c4b976",
   "metadata": {},
   "outputs": [
    {
     "name": "stdout",
     "output_type": "stream",
     "text": [
      "24\n",
      "[ 0  1  2  3  4  5  6  7  8 10 11 12 13 14 15 16 17 18 19 20 21 22 23 24]\n"
     ]
    }
   ],
   "source": [
    "unique_val = np.unique(labels)\n",
    "print(len(unique_val))\n",
    "print(unique_val)"
   ]
  },
  {
   "cell_type": "code",
   "execution_count": 8,
   "id": "6e24d853",
   "metadata": {},
   "outputs": [],
   "source": [
    "import matplotlib.pyplot as plt\n",
    "import seaborn as sns"
   ]
  },
  {
   "cell_type": "code",
   "execution_count": 9,
   "id": "862a082a",
   "metadata": {},
   "outputs": [
    {
     "data": {
      "text/plain": [
       "<Axes: ylabel='count'>"
      ]
     },
     "execution_count": 9,
     "metadata": {},
     "output_type": "execute_result"
    },
    {
     "data": {
      "image/png": "[encoded data removed]",
      "text/plain": [
       "<Figure size 1200x600 with 1 Axes>"
      ]
     },
     "metadata": {},
     "output_type": "display_data"
    }
   ],
   "source": [
    "plt.figure(figsize=(12,6))\n",
    "sns.countplot(x=labels)"
   ]
  },
  {
   "cell_type": "code",
   "execution_count": 10,
   "id": "fc813796",
   "metadata": {},
   "outputs": [],
   "source": [
    "# take out training data (minus the labels column)\n",
    "train.drop('label', axis = 1, inplace = True)"
   ]
  },
  {
   "cell_type": "code",
   "execution_count": 11,
   "id": "a0bc1172",
   "metadata": {},
   "outputs": [
    {
     "data": {
      "text/html": [
       "<div>\n",
       "<style scoped>\n",
       "    .dataframe tbody tr th:only-of-type {\n",
       "        vertical-align: middle;\n",
       "    }\n",
       "\n",
       "    .dataframe tbody tr th {\n",
       "        vertical-align: top;\n",
       "    }\n",
       "\n",
       "    .dataframe thead th {\n",
       "        text-align: right;\n",
       "    }\n",
       "</style>\n",
       "<table border=\"1\" class=\"dataframe\">\n",
       "  <thead>\n",
       "    <tr style=\"text-align: right;\">\n",
       "      <th></th>\n",
       "      <th>pixel1</th>\n",
       "      <th>pixel2</th>\n",
       "      <th>pixel3</th>\n",
       "      <th>pixel4</th>\n",
       "      <th>pixel5</th>\n",
       "      <th>pixel6</th>\n",
       "      <th>pixel7</th>\n",
       "      <th>pixel8</th>\n",
       "      <th>pixel9</th>\n",
       "      <th>pixel10</th>\n",
       "      <th>...</th>\n",
       "      <th>pixel775</th>\n",
       "      <th>pixel776</th>\n",
       "      <th>pixel777</th>\n",
       "      <th>pixel778</th>\n",
       "      <th>pixel779</th>\n",
       "      <th>pixel780</th>\n",
       "      <th>pixel781</th>\n",
       "      <th>pixel782</th>\n",
       "      <th>pixel783</th>\n",
       "      <th>pixel784</th>\n",
       "    </tr>\n",
       "  </thead>\n",
       "  <tbody>\n",
       "    <tr>\n",
       "      <th>0</th>\n",
       "      <td>107</td>\n",
       "      <td>118</td>\n",
       "      <td>127</td>\n",
       "      <td>134</td>\n",
       "      <td>139</td>\n",
       "      <td>143</td>\n",
       "      <td>146</td>\n",
       "      <td>150</td>\n",
       "      <td>153</td>\n",
       "      <td>156</td>\n",
       "      <td>...</td>\n",
       "      <td>207</td>\n",
       "      <td>207</td>\n",
       "      <td>207</td>\n",
       "      <td>207</td>\n",
       "      <td>206</td>\n",
       "      <td>206</td>\n",
       "      <td>206</td>\n",
       "      <td>204</td>\n",
       "      <td>203</td>\n",
       "      <td>202</td>\n",
       "    </tr>\n",
       "  </tbody>\n",
       "</table>\n",
       "<p>1 rows × 784 columns</p>\n",
       "</div>"
      ],
      "text/plain": [
       "   pixel1  pixel2  pixel3  pixel4  pixel5  pixel6  pixel7  pixel8  pixel9  \\\n",
       "0     107     118     127     134     139     143     146     150     153   \n",
       "\n",
       "   pixel10  ...  pixel775  pixel776  pixel777  pixel778  pixel779  pixel780  \\\n",
       "0      156  ...       207       207       207       207       206       206   \n",
       "\n",
       "   pixel781  pixel782  pixel783  pixel784  \n",
       "0       206       204       203       202  \n",
       "\n",
       "[1 rows x 784 columns]"
      ]
     },
     "execution_count": 11,
     "metadata": {},
     "output_type": "execute_result"
    }
   ],
   "source": [
    "train[:1]"
   ]
  },
  {
   "cell_type": "code",
   "execution_count": 12,
   "id": "e05edd3a",
   "metadata": {},
   "outputs": [
    {
     "data": {
      "text/plain": [
       "array([107, 118, 127, 134, 139, 143, 146, 150, 153, 156, 158, 160, 163,\n",
       "       165, 159, 166, 168, 170, 170, 171, 171, 171, 172, 171, 171, 170,\n",
       "       170, 169, 111, 121, 129, 135, 141, 144, 148, 151, 154, 157, 160,\n",
       "       163, 164, 170, 119, 152, 171, 171, 170, 171, 172, 172, 172, 172,\n",
       "       172, 171, 171, 170, 113, 123, 131, 137, 142, 145, 150, 152, 155,\n",
       "       158, 161, 163, 164, 172, 105, 142, 170, 171, 171, 171, 172, 172,\n",
       "       173, 173, 172, 171, 171, 171, 116, 125, 133, 139, 143, 146, 151,\n",
       "       153, 156, 159, 162, 163, 167, 167,  95, 144, 171, 172, 172, 172,\n",
       "       172, 172, 173, 173, 173, 172, 172, 171, 117, 126, 134, 140, 145,\n",
       "       149, 153, 156, 158, 161, 163, 164, 175, 156,  87, 154, 172, 173,\n",
       "       173, 173, 173, 173, 174, 174, 174, 173, 172, 172, 119, 128, 136,\n",
       "       142, 146, 150, 153, 156, 159, 163, 165, 164, 184, 148,  89, 164,\n",
       "       172, 174, 174, 174, 174, 175, 175, 174, 175, 174, 173, 173, 122,\n",
       "       130, 138, 143, 147, 150, 154, 158, 162, 165, 166, 172, 181, 128,\n",
       "        94, 170, 173, 175, 174, 175, 176, 177, 177, 177, 177, 175, 175,\n",
       "       174, 122, 132, 139, 145, 149, 152, 156, 160, 163, 165, 166, 181,\n",
       "       172, 103, 113, 175, 176, 178, 178, 179, 179, 179, 179, 178, 179,\n",
       "       177, 175, 174, 125, 134, 141, 147, 150, 153, 157, 161, 164, 167,\n",
       "       168, 184, 179, 116, 126, 165, 176, 179, 180, 180, 181, 180, 180,\n",
       "       180, 179, 178, 177, 176, 128, 135, 142, 148, 152, 154, 158, 162,\n",
       "       165, 168, 170, 187, 180, 156, 161, 124, 143, 179, 178, 178, 181,\n",
       "       182, 181, 180, 181, 180, 179, 179, 129, 136, 144, 150, 153, 155,\n",
       "       159, 163, 166, 169, 172, 187, 184, 153, 102, 117, 110, 175, 169,\n",
       "       154, 182, 183, 183, 182, 182, 181, 181, 179, 131, 138, 145, 150,\n",
       "       155, 157, 161, 165, 168, 174, 190, 189, 175, 146,  94,  97, 113,\n",
       "       151, 158, 129, 184, 184, 184, 184, 183, 183, 182, 180, 131, 139,\n",
       "       146, 151, 155, 159, 163, 167, 175, 182, 179, 171, 159, 114, 102,\n",
       "        89, 121, 136, 136,  96, 172, 186, 186, 185, 185, 184, 182, 181,\n",
       "       131, 140, 147, 154, 157, 160, 164, 179, 186, 191, 187, 180, 157,\n",
       "       100,  88,  84, 108, 111, 126,  90, 120, 186, 187, 187, 186, 185,\n",
       "       184, 182, 133, 141, 149, 155, 158, 160, 174, 201, 189, 165, 151,\n",
       "       143, 146, 120,  87,  78,  87,  76, 108,  98,  96, 181, 188, 187,\n",
       "       186, 186, 185, 183, 133, 141, 150, 156, 160, 161, 179, 197, 174,\n",
       "       135,  99,  72,  95, 134,  97,  72,  74,  68, 116, 105, 108, 187,\n",
       "       189, 187, 187, 186, 186, 185, 134, 143, 151, 156, 161, 163, 179,\n",
       "       194, 156, 110,  74,  42,  52, 139,  94,  67,  75,  75, 118, 106,\n",
       "       129, 189, 191, 190, 188, 188, 187, 186, 135, 144, 152, 158, 163,\n",
       "       163, 177, 193, 161, 122,  84,  43,  71, 134,  81,  57,  71,  88,\n",
       "       112,  98, 157, 193, 193, 192, 190, 190, 189, 188, 136, 144, 152,\n",
       "       158, 162, 163, 176, 192, 164, 128,  98,  62,  60, 100,  71,  76,\n",
       "        96, 101, 105,  95, 174, 195, 194, 194, 194, 193, 191, 190, 137,\n",
       "       145, 152, 159, 164, 165, 178, 191, 164, 135, 113,  82,  59,  87,\n",
       "        98, 111, 120, 108,  97, 108, 190, 196, 195, 195, 194, 193, 193,\n",
       "       192, 139, 146, 154, 160, 164, 165, 175, 186, 163, 139, 112,  85,\n",
       "        67, 102, 126, 133, 126, 105, 104, 176, 197, 198, 197, 196, 195,\n",
       "       195, 194, 193, 138, 147, 155, 161, 165, 167, 172, 186, 163, 137,\n",
       "       107,  87,  76, 106, 122, 125, 117,  96, 156, 199, 199, 200, 198,\n",
       "       196, 196, 195, 195, 194, 139, 148, 156, 163, 166, 168, 172, 180,\n",
       "       158, 131, 108,  99,  86, 108, 118, 116, 103, 107, 191, 202, 201,\n",
       "       200, 200, 200, 199, 197, 198, 196, 140, 149, 157, 164, 168, 167,\n",
       "       177, 178, 155, 131, 118, 105,  87, 100, 106, 100,  96, 164, 202,\n",
       "       202, 202, 202, 202, 201, 200, 199, 199, 198, 140, 150, 157, 165,\n",
       "       167, 170, 181, 175, 152, 130, 115,  98,  82,  85,  90,  99, 165,\n",
       "       202, 203, 204, 203, 203, 202, 202, 201, 201, 200, 200, 142, 150,\n",
       "       159, 165, 170, 191, 173, 157, 144, 119,  97,  84,  79,  79,  91,\n",
       "       172, 202, 203, 203, 205, 204, 204, 204, 203, 202, 202, 201, 200,\n",
       "       142, 151, 160, 165, 188, 190, 187, 150, 119, 109,  85,  79,  79,\n",
       "        78, 137, 203, 205, 206, 206, 207, 207, 206, 206, 204, 205, 204,\n",
       "       203, 202, 142, 151, 160, 172, 196, 188, 188, 190, 135,  96,  86,\n",
       "        77,  77,  79, 176, 205, 207, 207, 207, 207, 207, 207, 206, 206,\n",
       "       206, 204, 203, 202])"
      ]
     },
     "execution_count": 12,
     "metadata": {},
     "output_type": "execute_result"
    }
   ],
   "source": [
    "train.values[0]"
   ]
  },
  {
   "cell_type": "code",
   "execution_count": 13,
   "id": "eeaa96a0",
   "metadata": {},
   "outputs": [
    {
     "name": "stdout",
     "output_type": "stream",
     "text": [
      "\n",
      "(784,)\n"
     ]
    }
   ],
   "source": [
    "for i in train.values:\n",
    "    print()\n",
    "    print(i.shape)\n",
    "    break"
   ]
  },
  {
   "cell_type": "code",
   "execution_count": 14,
   "id": "b5819878",
   "metadata": {},
   "outputs": [],
   "source": [
    "from sklearn.preprocessing import LabelBinarizer\n",
    "\n",
    "label_binrizer = LabelBinarizer()\n",
    "labels = label_binrizer.fit_transform(labels)"
   ]
  },
  {
   "cell_type": "code",
   "execution_count": 15,
   "id": "e9da8bbf",
   "metadata": {},
   "outputs": [],
   "source": [
    "images = train.values\n",
    "# images = np.array([np.reshape(i, (28, 28)) for i in images])"
   ]
  },
  {
   "cell_type": "code",
   "execution_count": 16,
   "id": "3f2b5196",
   "metadata": {},
   "outputs": [
    {
     "data": {
      "text/plain": [
       "(784,)"
      ]
     },
     "execution_count": 16,
     "metadata": {},
     "output_type": "execute_result"
    }
   ],
   "source": [
    "images[0].shape"
   ]
  },
  {
   "cell_type": "code",
   "execution_count": 17,
   "id": "fe2e2565",
   "metadata": {},
   "outputs": [],
   "source": [
    "# images = np.array([i.flatten() for i in images])"
   ]
  },
  {
   "cell_type": "code",
   "execution_count": 18,
   "id": "17f8bba8",
   "metadata": {},
   "outputs": [],
   "source": [
    "# images[0]"
   ]
  },
  {
   "cell_type": "code",
   "execution_count": 19,
   "id": "1a9b0c00",
   "metadata": {},
   "outputs": [
    {
     "name": "stdout",
     "output_type": "stream",
     "text": [
      "[0 0 1 0 0 0 0 0 0 0 0 0 0 0 0 0 0 0 0 0 0 0 0 0]\n"
     ]
    },
    {
     "data": {
      "image/png": "[encoded data removed]",
      "text/plain": [
       "<Figure size 640x480 with 1 Axes>"
      ]
     },
     "metadata": {},
     "output_type": "display_data"
    }
   ],
   "source": [
    "plt.subplot(331)\n",
    "index = 2\n",
    "plt.imshow(images[index].reshape(28,28))\n",
    "print(labels[index])"
   ]
  },
  {
   "cell_type": "code",
   "execution_count": 20,
   "id": "fa48fda9",
   "metadata": {},
   "outputs": [
    {
     "name": "stderr",
     "output_type": "stream",
     "text": [
      "/Users/chahakjadon/anaconda3/lib/python3.10/site-packages/matplotlib/text.py:1279: FutureWarning: elementwise comparison failed; returning scalar instead, but in the future will perform elementwise comparison\n",
      "  if s != self._text:\n"
     ]
    },
    {
     "data": {
      "image/png": "[encoded data removed]",
      "text/plain": [
       "<Figure size 500x300 with 3 Axes>"
      ]
     },
     "metadata": {},
     "output_type": "display_data"
    }
   ],
   "source": [
    "plt.figure(figsize=(5,3))\n",
    "for i in range(3):\n",
    "    ax = plt.subplot(3,1,i+1)\n",
    "    plt.imshow(images[i].reshape(28,28))\n",
    "    plt.title(labels[i])\n",
    "    plt.axis(\"off\")"
   ]
  },
  {
   "cell_type": "code",
   "execution_count": 21,
   "id": "7a5fc5f9",
   "metadata": {},
   "outputs": [
    {
     "name": "stdout",
     "output_type": "stream",
     "text": [
      "<class 'numpy.ndarray'>\n"
     ]
    },
    {
     "data": {
      "text/plain": [
       "(27455, 784)"
      ]
     },
     "execution_count": 21,
     "metadata": {},
     "output_type": "execute_result"
    }
   ],
   "source": [
    "print(type(images[0]))\n",
    "images.shape"
   ]
  },
  {
   "cell_type": "code",
   "execution_count": 22,
   "id": "9df099d5",
   "metadata": {},
   "outputs": [],
   "source": [
    "# let's view the images through opencv\n",
    "\n",
    "import cv2\n",
    "import numpy as np\n",
    "for i in range(4):\n",
    "    random_no = np.random.randint(0, images.shape[0])\n",
    "    # Reshape the flat array to 2D image with desired dimensions (e.g., 28x28)\n",
    "    image_arr = np.reshape(images[random_no], (28, 28))\n",
    "    # convert an array to uint8 \n",
    "    img_8 = image_arr.astype(np.uint8)\n",
    "    img_8 = cv2.resize(img_8, None, fx=4, fy=4, interpolation = cv2.INTER_CUBIC)\n",
    "\n",
    "    # Display the image\n",
    "    cv2.imshow(\"Image\", img_8)\n",
    "    cv2.waitKey(0)\n",
    "    cv2.destroyAllWindows()"
   ]
  },
  {
   "cell_type": "code",
   "execution_count": 23,
   "id": "c4f138b5",
   "metadata": {},
   "outputs": [],
   "source": [
    "from sklearn.model_selection import train_test_split"
   ]
  },
  {
   "cell_type": "code",
   "execution_count": 24,
   "id": "959e90fd",
   "metadata": {},
   "outputs": [],
   "source": [
    "x_train, x_test, y_train, y_test = train_test_split(images, labels, test_size=0.3, random_state = 101)"
   ]
  },
  {
   "cell_type": "code",
   "execution_count": 25,
   "id": "f40e81d9",
   "metadata": {},
   "outputs": [
    {
     "name": "stdout",
     "output_type": "stream",
     "text": [
      "Shape of training dataset:  (19218, 784)\n",
      "Shape of testing dataset:  (8237, 784)\n",
      "Total number of training data:  19218\n",
      "Total number of testing data:  8237\n"
     ]
    }
   ],
   "source": [
    "print(\"Shape of training dataset: \", x_train.shape)\n",
    "print(\"Shape of testing dataset: \", x_test.shape)\n",
    "print(\"Total number of training data: \",x_train.shape[0])\n",
    "print(\"Total number of testing data: \",y_test.shape[0])"
   ]
  },
  {
   "cell_type": "markdown",
   "id": "75a6cd9a",
   "metadata": {},
   "source": [
    "# Preprocessing"
   ]
  },
  {
   "cell_type": "code",
   "execution_count": 26,
   "id": "375f5455",
   "metadata": {},
   "outputs": [],
   "source": [
    "batch_size = 128\n",
    "num_classes = 24\n",
    "epochs = 10"
   ]
  },
  {
   "cell_type": "code",
   "execution_count": 27,
   "id": "819331e0",
   "metadata": {},
   "outputs": [],
   "source": [
    "# scale/ normalize our image\n",
    "x_train = x_train/255\n",
    "x_test = x_test/255"
   ]
  },
  {
   "cell_type": "code",
   "execution_count": 28,
   "id": "0fbae1e9",
   "metadata": {},
   "outputs": [],
   "source": [
    "# Reshape into the size Tf & Keras allows\n",
    "x_train = x_train.reshape(x_train.shape[0],28,28,1)\n",
    "x_test = x_test.reshape(x_test.shape[0],28,28,1)"
   ]
  },
  {
   "cell_type": "code",
   "execution_count": 29,
   "id": "2de5ac1c",
   "metadata": {},
   "outputs": [
    {
     "name": "stdout",
     "output_type": "stream",
     "text": [
      "(19218, 28, 28, 1)\n",
      "(8237, 28, 28, 1)\n",
      "(8237, 24)\n",
      "(19218, 24)\n"
     ]
    }
   ],
   "source": [
    "print(x_train.shape)\n",
    "print(x_test.shape)\n",
    "print(y_test.shape)\n",
    "print(y_train.shape)"
   ]
  },
  {
   "cell_type": "markdown",
   "id": "1bba1382",
   "metadata": {},
   "source": [
    "# Modelling"
   ]
  },
  {
   "cell_type": "code",
   "execution_count": 30,
   "id": "6a83c0d2",
   "metadata": {},
   "outputs": [],
   "source": [
    "from tensorflow.keras.models import Sequential\n",
    "\n",
    "model = Sequential()"
   ]
  },
  {
   "cell_type": "code",
   "execution_count": 31,
   "id": "808717d3",
   "metadata": {},
   "outputs": [],
   "source": [
    "from tensorflow.keras.layers import Conv2D, MaxPooling2D, Flatten, Dense, Dropout"
   ]
  },
  {
   "cell_type": "code",
   "execution_count": 32,
   "id": "44413c21",
   "metadata": {},
   "outputs": [],
   "source": [
    "model.add(Conv2D(64, kernel_size = (3,3), activation='relu', input_shape = (28,28,1)))\n",
    "model.add(MaxPooling2D(pool_size = (2,2)))"
   ]
  },
  {
   "cell_type": "code",
   "execution_count": 33,
   "id": "90b8893a",
   "metadata": {},
   "outputs": [],
   "source": [
    "model.add(Conv2D(64, kernel_size = (3,3), activation='relu'))\n",
    "model.add(MaxPooling2D(pool_size = (2,2)))"
   ]
  },
  {
   "cell_type": "code",
   "execution_count": 34,
   "id": "866124a6",
   "metadata": {},
   "outputs": [],
   "source": [
    "model.add(Conv2D(64, kernel_size = (3,3), activation='relu'))\n",
    "model.add(MaxPooling2D(pool_size = (2,2)))"
   ]
  },
  {
   "cell_type": "code",
   "execution_count": 35,
   "id": "0ea79508",
   "metadata": {},
   "outputs": [],
   "source": [
    "model.add(Flatten())\n",
    "model.add(Dense(128, activation = 'relu'))\n",
    "model.add(Dropout(0.20))"
   ]
  },
  {
   "cell_type": "code",
   "execution_count": 36,
   "id": "86654af8",
   "metadata": {},
   "outputs": [],
   "source": [
    "model.add(Dense(num_classes, activation = 'softmax'))"
   ]
  },
  {
   "cell_type": "code",
   "execution_count": 37,
   "id": "b7958669",
   "metadata": {},
   "outputs": [
    {
     "name": "stderr",
     "output_type": "stream",
     "text": [
      "WARNING:absl:At this time, the v2.11+ optimizer `tf.keras.optimizers.Adam` runs slowly on M1/M2 Macs, please use the legacy Keras optimizer instead, located at `tf.keras.optimizers.legacy.Adam`.\n",
      "WARNING:absl:There is a known slowdown when using v2.11+ Keras optimizers on M1/M2 Macs. Falling back to the legacy Keras optimizer, i.e., `tf.keras.optimizers.legacy.Adam`.\n"
     ]
    }
   ],
   "source": [
    "from tensorflow.keras.optimizers import Adam \n",
    "\n",
    "# Compile our Model\n",
    "model.compile(loss = 'categorical_crossentropy',\n",
    "              optimizer= Adam(),\n",
    "              metrics=['accuracy'])\n",
    "\n",
    "# Calculation of parameters: (Kernel_size * channels + bias) * filters\n",
    "# (3*3*1 + 1) * 64 ~ 640"
   ]
  },
  {
   "cell_type": "code",
   "execution_count": 38,
   "id": "72cde0b5",
   "metadata": {},
   "outputs": [
    {
     "name": "stdout",
     "output_type": "stream",
     "text": [
      "Model: \"sequential\"\n",
      "_________________________________________________________________\n",
      " Layer (type)                Output Shape              Param #   \n",
      "=================================================================\n",
      " conv2d (Conv2D)             (None, 26, 26, 64)        640       \n",
      "                                                                 \n",
      " max_pooling2d (MaxPooling2  (None, 13, 13, 64)        0         \n",
      " D)                                                              \n",
      "                                                                 \n",
      " conv2d_1 (Conv2D)           (None, 11, 11, 64)        36928     \n",
      "                                                                 \n",
      " max_pooling2d_1 (MaxPoolin  (None, 5, 5, 64)          0         \n",
      " g2D)                                                            \n",
      "                                                                 \n",
      " conv2d_2 (Conv2D)           (None, 3, 3, 64)          36928     \n",
      "                                                                 \n",
      " max_pooling2d_2 (MaxPoolin  (None, 1, 1, 64)          0         \n",
      " g2D)                                                            \n",
      "                                                                 \n",
      " flatten (Flatten)           (None, 64)                0         \n",
      "                                                                 \n",
      " dense (Dense)               (None, 128)               8320      \n",
      "                                                                 \n",
      " dropout (Dropout)           (None, 128)               0         \n",
      "                                                                 \n",
      " dense_1 (Dense)             (None, 24)                3096      \n",
      "                                                                 \n",
      "=================================================================\n",
      "Total params: 85912 (335.59 KB)\n",
      "Trainable params: 85912 (335.59 KB)\n",
      "Non-trainable params: 0 (0.00 Byte)\n",
      "_________________________________________________________________\n",
      "None\n"
     ]
    }
   ],
   "source": [
    "print(model.summary())"
   ]
  },
  {
   "cell_type": "code",
   "execution_count": 39,
   "id": "328ced8d",
   "metadata": {},
   "outputs": [
    {
     "name": "stdout",
     "output_type": "stream",
     "text": [
      "Epoch 1/10\n",
      "151/151 [==============================] - 5s 33ms/step - loss: 2.7811 - accuracy: 0.1602 - val_loss: 1.8721 - val_accuracy: 0.4287\n",
      "Epoch 2/10\n",
      "151/151 [==============================] - 5s 34ms/step - loss: 1.4985 - accuracy: 0.5092 - val_loss: 1.0309 - val_accuracy: 0.6644\n",
      "Epoch 3/10\n",
      "151/151 [==============================] - 5s 33ms/step - loss: 0.9644 - accuracy: 0.6763 - val_loss: 0.6896 - val_accuracy: 0.7794\n",
      "Epoch 4/10\n",
      "151/151 [==============================] - 5s 33ms/step - loss: 0.6862 - accuracy: 0.7643 - val_loss: 0.5244 - val_accuracy: 0.8245\n",
      "Epoch 5/10\n",
      "151/151 [==============================] - 5s 34ms/step - loss: 0.5001 - accuracy: 0.8292 - val_loss: 0.4140 - val_accuracy: 0.8669\n",
      "Epoch 6/10\n",
      "151/151 [==============================] - 5s 32ms/step - loss: 0.3882 - accuracy: 0.8688 - val_loss: 0.3047 - val_accuracy: 0.8989\n",
      "Epoch 7/10\n",
      "151/151 [==============================] - 5s 33ms/step - loss: 0.2978 - accuracy: 0.9010 - val_loss: 0.2020 - val_accuracy: 0.9312\n",
      "Epoch 8/10\n",
      "151/151 [==============================] - 5s 33ms/step - loss: 0.2389 - accuracy: 0.9189 - val_loss: 0.1554 - val_accuracy: 0.9540\n",
      "Epoch 9/10\n",
      "151/151 [==============================] - 5s 33ms/step - loss: 0.1910 - accuracy: 0.9363 - val_loss: 0.1177 - val_accuracy: 0.9660\n",
      "Epoch 10/10\n",
      "151/151 [==============================] - 5s 34ms/step - loss: 0.1513 - accuracy: 0.9537 - val_loss: 0.0819 - val_accuracy: 0.9800\n"
     ]
    }
   ],
   "source": [
    "history = model.fit(x_train, y_train, validation_data = (x_test, y_test), epochs=epochs, batch_size=batch_size)"
   ]
  },
  {
   "cell_type": "markdown",
   "id": "55404fc9",
   "metadata": {},
   "source": [
    "# Save model"
   ]
  },
  {
   "cell_type": "code",
   "execution_count": 40,
   "id": "4191d39e",
   "metadata": {},
   "outputs": [
    {
     "name": "stderr",
     "output_type": "stream",
     "text": [
      "/Users/chahakjadon/anaconda3/lib/python3.10/site-packages/keras/src/engine/training.py:3000: UserWarning: You are saving your model as an HDF5 file via `model.save()`. This file format is considered legacy. We recommend using instead the native Keras format, e.g. `model.save('my_model.keras')`.\n",
      "  saving_api.save_model(\n"
     ]
    }
   ],
   "source": [
    "model.save(\"sign_mnist_cnn_10_Epochs.h5\")"
   ]
  },
  {
   "cell_type": "code",
   "execution_count": 41,
   "id": "9b59de08",
   "metadata": {},
   "outputs": [
    {
     "data": {
      "text/plain": [
       "{'loss': [2.7811403274536133,\n",
       "  1.4985411167144775,\n",
       "  0.9643540978431702,\n",
       "  0.6862048506736755,\n",
       "  0.50007563829422,\n",
       "  0.38817283511161804,\n",
       "  0.2977777421474457,\n",
       "  0.2388734519481659,\n",
       "  0.1909749060869217,\n",
       "  0.15128862857818604],\n",
       " 'accuracy': [0.1602143794298172,\n",
       "  0.5092101097106934,\n",
       "  0.6762930750846863,\n",
       "  0.7642834782600403,\n",
       "  0.8292226195335388,\n",
       "  0.8687688708305359,\n",
       "  0.9009782671928406,\n",
       "  0.918930172920227,\n",
       "  0.9363096952438354,\n",
       "  0.9536892771720886],\n",
       " 'val_loss': [1.8720721006393433,\n",
       "  1.030855417251587,\n",
       "  0.6896251440048218,\n",
       "  0.5243915915489197,\n",
       "  0.4140055477619171,\n",
       "  0.30472850799560547,\n",
       "  0.2020111232995987,\n",
       "  0.15540675818920135,\n",
       "  0.11767908930778503,\n",
       "  0.08193421363830566],\n",
       " 'val_accuracy': [0.42867550253868103,\n",
       "  0.664440929889679,\n",
       "  0.7794100046157837,\n",
       "  0.824450671672821,\n",
       "  0.8669418692588806,\n",
       "  0.8988709449768066,\n",
       "  0.9311642646789551,\n",
       "  0.9539880752563477,\n",
       "  0.9660070538520813,\n",
       "  0.9799684286117554]}"
      ]
     },
     "execution_count": 41,
     "metadata": {},
     "output_type": "execute_result"
    }
   ],
   "source": [
    "history.history"
   ]
  },
  {
   "cell_type": "code",
   "execution_count": 42,
   "id": "ddca970b",
   "metadata": {},
   "outputs": [
    {
     "data": {
      "text/plain": [
       "<matplotlib.legend.Legend at 0x2d445e5c0>"
      ]
     },
     "execution_count": 42,
     "metadata": {},
     "output_type": "execute_result"
    },
    {
     "data": {
      "image/png": "[encoded data removed]",
      "text/plain": [
       "<Figure size 640x480 with 1 Axes>"
      ]
     },
     "metadata": {},
     "output_type": "display_data"
    }
   ],
   "source": [
    "plt.plot(history.history['accuracy'])\n",
    "plt.plot(history.history['val_accuracy'])\n",
    "plt.title('Accuracy')\n",
    "plt.xlabel('Epochs')\n",
    "plt.ylabel('accuracy')\n",
    "plt.legend(['train','test'])"
   ]
  },
  {
   "cell_type": "code",
   "execution_count": 43,
   "id": "22e3b6ed",
   "metadata": {},
   "outputs": [
    {
     "name": "stdout",
     "output_type": "stream",
     "text": [
      "225/225 [==============================] - 1s 3ms/step\n"
     ]
    }
   ],
   "source": [
    "test_labels = test['label']\n",
    "test.drop('label', axis = 1, inplace = True)\n",
    "\n",
    "test_images = test.values\n",
    "test_images = np.array([np.reshape(i, (28, 28)) for i in test_images])\n",
    "test_images = np.array([i.flatten() for i in test_images])\n",
    "\n",
    "test_labels = label_binrizer.fit_transform(test_labels)\n",
    "\n",
    "test_images = test_images.reshape(test_images.shape[0], 28, 28, 1)\n",
    "\n",
    "test_images.shape\n",
    "\n",
    "y_pred = model.predict(test_images)"
   ]
  },
  {
   "cell_type": "code",
   "execution_count": 44,
   "id": "e6b98e01",
   "metadata": {},
   "outputs": [
    {
     "data": {
      "text/plain": [
       "0.8107919687674289"
      ]
     },
     "execution_count": 44,
     "metadata": {},
     "output_type": "execute_result"
    }
   ],
   "source": [
    "from sklearn.metrics import accuracy_score\n",
    "\n",
    "accuracy_score(test_labels, y_pred.round())"
   ]
  },
  {
   "cell_type": "code",
   "execution_count": 45,
   "id": "8f8ba23d",
   "metadata": {},
   "outputs": [],
   "source": [
    "def getLetter(result):\n",
    "    classLabels = { 0: 'A',\n",
    "                    1: 'B',\n",
    "                    2: 'C',\n",
    "                    3: 'D',\n",
    "                    4: 'E',\n",
    "                    5: 'F',\n",
    "                    6: 'G',\n",
    "                    7: 'H',\n",
    "                    8: 'I',\n",
    "                    9: 'K',\n",
    "                    10: 'L',\n",
    "                    11: 'M',\n",
    "                    12: 'N',\n",
    "                    13: 'O',\n",
    "                    14: 'P',\n",
    "                    15: 'Q',\n",
    "                    16: 'R',\n",
    "                    17: 'S',\n",
    "                    18: 'T',\n",
    "                    19: 'U',\n",
    "                    20: 'V',\n",
    "                    21: 'W',\n",
    "                    22: 'X',\n",
    "                    23: 'Y'}\n",
    "    try:\n",
    "        res = int(result)\n",
    "        return classLabels[res]\n",
    "    except:\n",
    "        return \"Error\""
   ]
  },
  {
   "cell_type": "markdown",
   "id": "eca9e183",
   "metadata": {},
   "source": [
    "# Test on Actual WebCam"
   ]
  },
  {
   "cell_type": "code",
   "execution_count": null,
   "id": "78c5ad35",
   "metadata": {},
   "outputs": [
    {
     "name": "stderr",
     "output_type": "stream",
     "text": [
      "[ WARN:0@510.237] global /private/var/folders/nz/j6p8yfhx1mv_0grj5xl4650h0000gp/T/abs_d9lyif19nl/croot/opencv-suite_1676472756314/work/modules/videoio/src/cap_gstreamer.cpp (862) isPipelinePlaying OpenCV | GStreamer warning: GStreamer: pipeline have not been created\n"
     ]
    }
   ],
   "source": [
    "cap = cv2.VideoCapture(0)\n",
    "\n",
    "while True:\n",
    "    ret, frame = cap.read()\n",
    "    \n",
    "    frame=cv2.flip(frame, 1)\n",
    "    \n",
    "    roi = frame[100:400, 320:620]\n",
    "    cv2.imshow('roi',roi)\n",
    "    cv2.waitKey(0)\n",
    "    cv2.destroyAllWindows()\n",
    "    \n",
    "    roi = cv2.cvtColor(roi, cv2.COLOR_BGR2GRAY)\n",
    "    roi = cv2.resize(roi, (28, 28), interpolation = cv2.INTER_AREA)\n",
    "    \n",
    "    cv2.imshow('roi sacled and gray', roi)\n",
    "    cv2.waitKey(0)\n",
    "    cv2.destroyAllWindows()\n",
    "    copy = frame.copy()\n",
    "    cv2.rectangle(copy, (320, 100), (620, 400), (255,0,0), 5)\n",
    "    \n",
    "    roi = roi.reshape(1,28,28,1) \n",
    "\n",
    "    result = model.predict(roi, 1, verbose=0)\n",
    "    predicted_class = np.where(result == 1)[1][0]\n",
    "    cv2.putText(copy, getLetter(predicted_class), (300 , 100), cv2.FONT_HERSHEY_COMPLEX, 2, (0, 255, 0), 2)\n",
    "    cv2.imshow('frame', copy)    \n",
    "    \n",
    "    if cv2.waitKey(1) == 13: #13 is the Enter Key\n",
    "        break\n",
    "        \n",
    "cap.release()\n",
    "cv2.destroyAllWindows()"
   ]
  },
  {
   "cell_type": "code",
   "execution_count": null,
   "id": "5ed0982c",
   "metadata": {},
   "outputs": [],
   "source": []
  }
 ],
 "metadata": {
  "kernelspec": {
   "display_name": "Python 3 (ipykernel)",
   "language": "python",
   "name": "python3"
  },
  "language_info": {
   "codemirror_mode": {
    "name": "ipython",
    "version": 3
   },
   "file_extension": ".py",
   "mimetype": "text/x-python",
   "name": "python",
   "nbconvert_exporter": "python",
   "pygments_lexer": "ipython3",
   "version": "3.10.9"
  }
 },
 "nbformat": 4,
 "nbformat_minor": 5
}
